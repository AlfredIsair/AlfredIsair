{
  "nbformat": 4,
  "nbformat_minor": 0,
  "metadata": {
    "colab": {
      "provenance": [],
      "authorship_tag": "ABX9TyP6Q5nMbJj5/w3YBP9PzyKV",
      "include_colab_link": true
    },
    "kernelspec": {
      "name": "python3",
      "display_name": "Python 3"
    },
    "language_info": {
      "name": "python"
    },
    "accelerator": "TPU"
  },
  "cells": [
    {
      "cell_type": "markdown",
      "metadata": {
        "id": "view-in-github",
        "colab_type": "text"
      },
      "source": [
        "<a href=\"https://colab.research.google.com/github/AlfredIsair/AlfredIsair/blob/main/Clinical_Text_Classification.ipynb\" target=\"_parent\"><img src=\"https://colab.research.google.com/assets/colab-badge.svg\" alt=\"Open In Colab\"/></a>"
      ]
    },
    {
      "cell_type": "markdown",
      "source": [
        "The primary objective is to classify oncology reports, with a nuanced emphasis on differentiating between colon, thyroid, and lung cancer cases. This targeted approach enables us to optimize the model for precision in handling specific oncological contexts, enhancing its effectiveness for medical text classification in the field of oncology."
      ],
      "metadata": {
        "id": "DB1AUFi0cuAK"
      }
    },
    {
      "cell_type": "markdown",
      "source": [
        "## **Colab Setup**"
      ],
      "metadata": {
        "id": "dFA-j3tyMybp"
      }
    },
    {
      "cell_type": "code",
      "execution_count": 1,
      "metadata": {
        "id": "dBFSOyePceoz",
        "colab": {
          "base_uri": "https://localhost:8080/",
          "height": 73
        },
        "outputId": "c5d156ee-5d87-42bf-e501-3d84ad8a887f"
      },
      "outputs": [
        {
          "output_type": "display_data",
          "data": {
            "text/plain": [
              "<IPython.core.display.HTML object>"
            ],
            "text/html": [
              "\n",
              "     <input type=\"file\" id=\"files-a4620ef1-a318-4cc8-b97a-2b768f04bb28\" name=\"files[]\" multiple disabled\n",
              "        style=\"border:none\" />\n",
              "     <output id=\"result-a4620ef1-a318-4cc8-b97a-2b768f04bb28\">\n",
              "      Upload widget is only available when the cell has been executed in the\n",
              "      current browser session. Please rerun this cell to enable.\n",
              "      </output>\n",
              "      <script>// Copyright 2017 Google LLC\n",
              "//\n",
              "// Licensed under the Apache License, Version 2.0 (the \"License\");\n",
              "// you may not use this file except in compliance with the License.\n",
              "// You may obtain a copy of the License at\n",
              "//\n",
              "//      http://www.apache.org/licenses/LICENSE-2.0\n",
              "//\n",
              "// Unless required by applicable law or agreed to in writing, software\n",
              "// distributed under the License is distributed on an \"AS IS\" BASIS,\n",
              "// WITHOUT WARRANTIES OR CONDITIONS OF ANY KIND, either express or implied.\n",
              "// See the License for the specific language governing permissions and\n",
              "// limitations under the License.\n",
              "\n",
              "/**\n",
              " * @fileoverview Helpers for google.colab Python module.\n",
              " */\n",
              "(function(scope) {\n",
              "function span(text, styleAttributes = {}) {\n",
              "  const element = document.createElement('span');\n",
              "  element.textContent = text;\n",
              "  for (const key of Object.keys(styleAttributes)) {\n",
              "    element.style[key] = styleAttributes[key];\n",
              "  }\n",
              "  return element;\n",
              "}\n",
              "\n",
              "// Max number of bytes which will be uploaded at a time.\n",
              "const MAX_PAYLOAD_SIZE = 100 * 1024;\n",
              "\n",
              "function _uploadFiles(inputId, outputId) {\n",
              "  const steps = uploadFilesStep(inputId, outputId);\n",
              "  const outputElement = document.getElementById(outputId);\n",
              "  // Cache steps on the outputElement to make it available for the next call\n",
              "  // to uploadFilesContinue from Python.\n",
              "  outputElement.steps = steps;\n",
              "\n",
              "  return _uploadFilesContinue(outputId);\n",
              "}\n",
              "\n",
              "// This is roughly an async generator (not supported in the browser yet),\n",
              "// where there are multiple asynchronous steps and the Python side is going\n",
              "// to poll for completion of each step.\n",
              "// This uses a Promise to block the python side on completion of each step,\n",
              "// then passes the result of the previous step as the input to the next step.\n",
              "function _uploadFilesContinue(outputId) {\n",
              "  const outputElement = document.getElementById(outputId);\n",
              "  const steps = outputElement.steps;\n",
              "\n",
              "  const next = steps.next(outputElement.lastPromiseValue);\n",
              "  return Promise.resolve(next.value.promise).then((value) => {\n",
              "    // Cache the last promise value to make it available to the next\n",
              "    // step of the generator.\n",
              "    outputElement.lastPromiseValue = value;\n",
              "    return next.value.response;\n",
              "  });\n",
              "}\n",
              "\n",
              "/**\n",
              " * Generator function which is called between each async step of the upload\n",
              " * process.\n",
              " * @param {string} inputId Element ID of the input file picker element.\n",
              " * @param {string} outputId Element ID of the output display.\n",
              " * @return {!Iterable<!Object>} Iterable of next steps.\n",
              " */\n",
              "function* uploadFilesStep(inputId, outputId) {\n",
              "  const inputElement = document.getElementById(inputId);\n",
              "  inputElement.disabled = false;\n",
              "\n",
              "  const outputElement = document.getElementById(outputId);\n",
              "  outputElement.innerHTML = '';\n",
              "\n",
              "  const pickedPromise = new Promise((resolve) => {\n",
              "    inputElement.addEventListener('change', (e) => {\n",
              "      resolve(e.target.files);\n",
              "    });\n",
              "  });\n",
              "\n",
              "  const cancel = document.createElement('button');\n",
              "  inputElement.parentElement.appendChild(cancel);\n",
              "  cancel.textContent = 'Cancel upload';\n",
              "  const cancelPromise = new Promise((resolve) => {\n",
              "    cancel.onclick = () => {\n",
              "      resolve(null);\n",
              "    };\n",
              "  });\n",
              "\n",
              "  // Wait for the user to pick the files.\n",
              "  const files = yield {\n",
              "    promise: Promise.race([pickedPromise, cancelPromise]),\n",
              "    response: {\n",
              "      action: 'starting',\n",
              "    }\n",
              "  };\n",
              "\n",
              "  cancel.remove();\n",
              "\n",
              "  // Disable the input element since further picks are not allowed.\n",
              "  inputElement.disabled = true;\n",
              "\n",
              "  if (!files) {\n",
              "    return {\n",
              "      response: {\n",
              "        action: 'complete',\n",
              "      }\n",
              "    };\n",
              "  }\n",
              "\n",
              "  for (const file of files) {\n",
              "    const li = document.createElement('li');\n",
              "    li.append(span(file.name, {fontWeight: 'bold'}));\n",
              "    li.append(span(\n",
              "        `(${file.type || 'n/a'}) - ${file.size} bytes, ` +\n",
              "        `last modified: ${\n",
              "            file.lastModifiedDate ? file.lastModifiedDate.toLocaleDateString() :\n",
              "                                    'n/a'} - `));\n",
              "    const percent = span('0% done');\n",
              "    li.appendChild(percent);\n",
              "\n",
              "    outputElement.appendChild(li);\n",
              "\n",
              "    const fileDataPromise = new Promise((resolve) => {\n",
              "      const reader = new FileReader();\n",
              "      reader.onload = (e) => {\n",
              "        resolve(e.target.result);\n",
              "      };\n",
              "      reader.readAsArrayBuffer(file);\n",
              "    });\n",
              "    // Wait for the data to be ready.\n",
              "    let fileData = yield {\n",
              "      promise: fileDataPromise,\n",
              "      response: {\n",
              "        action: 'continue',\n",
              "      }\n",
              "    };\n",
              "\n",
              "    // Use a chunked sending to avoid message size limits. See b/62115660.\n",
              "    let position = 0;\n",
              "    do {\n",
              "      const length = Math.min(fileData.byteLength - position, MAX_PAYLOAD_SIZE);\n",
              "      const chunk = new Uint8Array(fileData, position, length);\n",
              "      position += length;\n",
              "\n",
              "      const base64 = btoa(String.fromCharCode.apply(null, chunk));\n",
              "      yield {\n",
              "        response: {\n",
              "          action: 'append',\n",
              "          file: file.name,\n",
              "          data: base64,\n",
              "        },\n",
              "      };\n",
              "\n",
              "      let percentDone = fileData.byteLength === 0 ?\n",
              "          100 :\n",
              "          Math.round((position / fileData.byteLength) * 100);\n",
              "      percent.textContent = `${percentDone}% done`;\n",
              "\n",
              "    } while (position < fileData.byteLength);\n",
              "  }\n",
              "\n",
              "  // All done.\n",
              "  yield {\n",
              "    response: {\n",
              "      action: 'complete',\n",
              "    }\n",
              "  };\n",
              "}\n",
              "\n",
              "scope.google = scope.google || {};\n",
              "scope.google.colab = scope.google.colab || {};\n",
              "scope.google.colab._files = {\n",
              "  _uploadFiles,\n",
              "  _uploadFilesContinue,\n",
              "};\n",
              "})(self);\n",
              "</script> "
            ]
          },
          "metadata": {}
        },
        {
          "output_type": "stream",
          "name": "stdout",
          "text": [
            "Saving spark_nlp_for_healthcare_spark_ocr_8539.json to spark_nlp_for_healthcare_spark_ocr_8539.json\n"
          ]
        }
      ],
      "source": [
        "import json\n",
        "import os\n",
        "\n",
        "from google.colab import files\n",
        "\n",
        "if 'spark_jsl.json' not in os.listdir():\n",
        "  license_keys = files.upload()\n",
        "  os.rename(list(license_keys.keys())[0], 'spark_jsl.json')\n",
        "\n",
        "with open('spark_jsl.json') as f:\n",
        "    license_keys = json.load(f)\n",
        "\n",
        "# Defining license key-value pairs as local variables\n",
        "locals().update(license_keys)\n",
        "os.environ.update(license_keys)"
      ]
    },
    {
      "cell_type": "code",
      "source": [
        "# Installing spark-nlp for GPU\n",
        "!wget https://setup.johnsnowlabs.com/colab.sh -O - | bash /dev/stdin -p 3.3.0 -s $PUBLIC_VERSION -g\n",
        "\n",
        "# Installing Spark NLP Healthcare\n",
        "! pip install --upgrade -q spark-nlp-jsl==$JSL_VERSION  --extra-index-url https://pypi.johnsnowlabs.com/$SECRET"
      ],
      "metadata": {
        "colab": {
          "base_uri": "https://localhost:8080/"
        },
        "id": "dKcHjLuB0RBw",
        "outputId": "389cf3c9-a8e7-4128-ec00-e074ddb012e6"
      },
      "execution_count": 2,
      "outputs": [
        {
          "output_type": "stream",
          "name": "stdout",
          "text": [
            "--2023-11-27 05:16:15--  https://setup.johnsnowlabs.com/colab.sh\n",
            "Resolving setup.johnsnowlabs.com (setup.johnsnowlabs.com)... 51.158.130.125\n",
            "Connecting to setup.johnsnowlabs.com (setup.johnsnowlabs.com)|51.158.130.125|:443... connected.\n",
            "HTTP request sent, awaiting response... 302 Moved Temporarily\n",
            "Location: https://raw.githubusercontent.com/JohnSnowLabs/spark-nlp/master/scripts/colab_setup.sh [following]\n",
            "--2023-11-27 05:16:16--  https://raw.githubusercontent.com/JohnSnowLabs/spark-nlp/master/scripts/colab_setup.sh\n",
            "Resolving raw.githubusercontent.com (raw.githubusercontent.com)... 185.199.109.133, 185.199.111.133, 185.199.108.133, ...\n",
            "Connecting to raw.githubusercontent.com (raw.githubusercontent.com)|185.199.109.133|:443... connected.\n",
            "HTTP request sent, awaiting response... 200 OK\n",
            "Length: 1191 (1.2K) [text/plain]\n",
            "Saving to: ‘STDOUT’\n",
            "\n",
            "-                   100%[===================>]   1.16K  --.-KB/s    in 0s      \n",
            "\n",
            "2023-11-27 05:16:16 (63.3 MB/s) - written to stdout [1191/1191]\n",
            "\n",
            "Installing PySpark 3.3.0 and Spark NLP 5.1.4\n",
            "setup Colab for PySpark 3.3.0 and Spark NLP 5.1.4\n",
            "Upgrading libcudnn8 to 8.1.0 for GPU\n",
            "\u001b[2K     \u001b[90m━━━━━━━━━━━━━━━━━━━━━━━━━━━━━━━━━━━━━━━━\u001b[0m \u001b[32m281.3/281.3 MB\u001b[0m \u001b[31m5.0 MB/s\u001b[0m eta \u001b[36m0:00:00\u001b[0m\n",
            "\u001b[?25h  Preparing metadata (setup.py) ... \u001b[?25l\u001b[?25hdone\n",
            "\u001b[2K     \u001b[90m━━━━━━━━━━━━━━━━━━━━━━━━━━━━━━━━━━━━━━━━\u001b[0m \u001b[32m540.7/540.7 kB\u001b[0m \u001b[31m45.1 MB/s\u001b[0m eta \u001b[36m0:00:00\u001b[0m\n",
            "\u001b[2K     \u001b[90m━━━━━━━━━━━━━━━━━━━━━━━━━━━━━━━━━━━━━━━━\u001b[0m \u001b[32m199.7/199.7 kB\u001b[0m \u001b[31m24.1 MB/s\u001b[0m eta \u001b[36m0:00:00\u001b[0m\n",
            "\u001b[?25h  Building wheel for pyspark (setup.py) ... \u001b[?25l\u001b[?25hdone\n",
            "\u001b[2K     \u001b[90m━━━━━━━━━━━━━━━━━━━━━━━━━━━━━━━━━━━━━━━━\u001b[0m \u001b[32m466.2/466.2 kB\u001b[0m \u001b[31m12.2 MB/s\u001b[0m eta \u001b[36m0:00:00\u001b[0m\n",
            "\u001b[?25h"
          ]
        }
      ]
    },
    {
      "cell_type": "code",
      "source": [
        "!pip install -q tensorflow==2.12.0\n",
        "!pip install -q tensorflow-addons"
      ],
      "metadata": {
        "id": "iCUHUIM80Tqe",
        "colab": {
          "base_uri": "https://localhost:8080/"
        },
        "outputId": "efd20e7c-fe7b-4667-eb7c-b36ee0eabbc5"
      },
      "execution_count": 3,
      "outputs": [
        {
          "output_type": "stream",
          "name": "stdout",
          "text": [
            "\u001b[2K     \u001b[90m━━━━━━━━━━━━━━━━━━━━━━━━━━━━━━━━━━━━━━━━\u001b[0m \u001b[32m585.9/585.9 MB\u001b[0m \u001b[31m1.6 MB/s\u001b[0m eta \u001b[36m0:00:00\u001b[0m\n",
            "\u001b[2K     \u001b[90m━━━━━━━━━━━━━━━━━━━━━━━━━━━━━━━━━━━━━━━━\u001b[0m \u001b[32m1.7/1.7 MB\u001b[0m \u001b[31m61.7 MB/s\u001b[0m eta \u001b[36m0:00:00\u001b[0m\n",
            "\u001b[2K     \u001b[90m━━━━━━━━━━━━━━━━━━━━━━━━━━━━━━━━━━━━━━━━\u001b[0m \u001b[32m5.6/5.6 MB\u001b[0m \u001b[31m60.8 MB/s\u001b[0m eta \u001b[36m0:00:00\u001b[0m\n",
            "\u001b[2K     \u001b[90m━━━━━━━━━━━━━━━━━━━━━━━━━━━━━━━━━━━━━━━━\u001b[0m \u001b[32m440.7/440.7 kB\u001b[0m \u001b[31m36.3 MB/s\u001b[0m eta \u001b[36m0:00:00\u001b[0m\n",
            "\u001b[2K     \u001b[90m━━━━━━━━━━━━━━━━━━━━━━━━━━━━━━━━━━━━━━━━\u001b[0m \u001b[32m612.3/612.3 kB\u001b[0m \u001b[31m7.5 MB/s\u001b[0m eta \u001b[36m0:00:00\u001b[0m\n",
            "\u001b[?25h"
          ]
        }
      ]
    },
    {
      "cell_type": "code",
      "source": [
        "import json\n",
        "import os\n",
        "\n",
        "with open('spark_jsl.json') as f:\n",
        "    license_keys = json.load(f)\n",
        "\n",
        "# Defining license key-value pairs as local variables\n",
        "locals().update(license_keys)\n",
        "os.environ.update(license_keys)"
      ],
      "metadata": {
        "id": "VsAw3aCu0VtN"
      },
      "execution_count": 4,
      "outputs": []
    },
    {
      "cell_type": "code",
      "source": [
        "import pandas as pd\n",
        "from sklearn.metrics import confusion_matrix, classification_report, accuracy_score\n",
        "\n",
        "import sparknlp\n",
        "import sparknlp_jsl\n",
        "\n",
        "\n",
        "\n",
        "from sparknlp.base import *\n",
        "from sparknlp.annotator import *\n",
        "from sparknlp_jsl.base import *\n",
        "from sparknlp_jsl.annotator import *\n",
        "\n",
        "from pyspark.sql import SparkSession\n",
        "from pyspark.sql import functions as F\n",
        "from pyspark.ml import Pipeline,PipelineModel\n",
        "\n",
        "import string\n",
        "import numpy as np\n",
        "\n",
        "import warnings\n",
        "warnings.filterwarnings('ignore')\n",
        "\n",
        "params = {\"spark.driver.memory\":\"24G\",\n",
        "          \"spark.kryoserializer.buffer.max\":\"2000M\",\n",
        "          \"spark.driver.maxResultSize\":\"2000M\"}\n",
        "\n",
        "spark = sparknlp_jsl.start(license_keys['SECRET'],params=params, gpu=True)\n"
      ],
      "metadata": {
        "id": "TW8sJFmZ0Xku"
      },
      "execution_count": 5,
      "outputs": []
    },
    {
      "cell_type": "code",
      "source": [
        "from google.colab import drive\n",
        "drive.mount('/content/drive')"
      ],
      "metadata": {
        "id": "Bkmuc_n22qG3",
        "colab": {
          "base_uri": "https://localhost:8080/"
        },
        "outputId": "83d12711-20c3-4c84-e419-a23aa47e08f0"
      },
      "execution_count": 6,
      "outputs": [
        {
          "output_type": "stream",
          "name": "stdout",
          "text": [
            "Mounted at /content/drive\n"
          ]
        }
      ]
    },
    {
      "cell_type": "code",
      "source": [
        "import pandas as pd\n",
        "df = pd.read_csv('/content/drive/MyDrive/Datasets/Medical_Text_Classification.csv' ,header=None, names=[\"category\",\"text\"], encoding='latin1')\n",
        "df.head(15)"
      ],
      "metadata": {
        "id": "YQ63ukAP3K2Y",
        "colab": {
          "base_uri": "https://localhost:8080/",
          "height": 519
        },
        "outputId": "638e5f53-2449-40c2-bb4f-2e595f6452a0"
      },
      "execution_count": 7,
      "outputs": [
        {
          "output_type": "execute_result",
          "data": {
            "text/plain": [
              "          category                                               text\n",
              "0   Thyroid_Cancer  Thyroid surgery in  children in a single insti...\n",
              "1   Thyroid_Cancer  \" The adopted strategy was the same as that us...\n",
              "2   Thyroid_Cancer  coronary arterybypass grafting thrombosis ï¬b...\n",
              "3   Thyroid_Cancer   Solitary plasmacytoma SP of the skull is an u...\n",
              "4   Thyroid_Cancer   This study aimed to investigate serum matrix ...\n",
              "5   Thyroid_Cancer   This study was performed to explore the effec...\n",
              "6   Thyroid_Cancer   This study was performed assess the clinical ...\n",
              "7   Thyroid_Cancer  Journal of International Medical Research  Th...\n",
              "8   Thyroid_Cancer   Gastric cancer GC persists as a worldwide pub...\n",
              "9   Thyroid_Cancer   Scars Burns  HealingVolume     reuse guideli...\n",
              "10  Thyroid_Cancer   In  a novel coronavirus SARSCoV2 was found to...\n",
              "11  Thyroid_Cancer   Cabozantinib is an oral multikinase inhibitor...\n",
              "12  Thyroid_Cancer  \" Despite several efforts the development of a...\n",
              "13  Thyroid_Cancer   Purpose of Review Recognize which are the ele...\n",
              "14  Thyroid_Cancer  Neurologic Manifestations of Systemic Disease ..."
            ],
            "text/html": [
              "\n",
              "  <div id=\"df-21627bff-cc71-410b-90b8-7d6cac3396db\" class=\"colab-df-container\">\n",
              "    <div>\n",
              "<style scoped>\n",
              "    .dataframe tbody tr th:only-of-type {\n",
              "        vertical-align: middle;\n",
              "    }\n",
              "\n",
              "    .dataframe tbody tr th {\n",
              "        vertical-align: top;\n",
              "    }\n",
              "\n",
              "    .dataframe thead th {\n",
              "        text-align: right;\n",
              "    }\n",
              "</style>\n",
              "<table border=\"1\" class=\"dataframe\">\n",
              "  <thead>\n",
              "    <tr style=\"text-align: right;\">\n",
              "      <th></th>\n",
              "      <th>category</th>\n",
              "      <th>text</th>\n",
              "    </tr>\n",
              "  </thead>\n",
              "  <tbody>\n",
              "    <tr>\n",
              "      <th>0</th>\n",
              "      <td>Thyroid_Cancer</td>\n",
              "      <td>Thyroid surgery in  children in a single insti...</td>\n",
              "    </tr>\n",
              "    <tr>\n",
              "      <th>1</th>\n",
              "      <td>Thyroid_Cancer</td>\n",
              "      <td>\" The adopted strategy was the same as that us...</td>\n",
              "    </tr>\n",
              "    <tr>\n",
              "      <th>2</th>\n",
              "      <td>Thyroid_Cancer</td>\n",
              "      <td>coronary arterybypass grafting thrombosis ï¬b...</td>\n",
              "    </tr>\n",
              "    <tr>\n",
              "      <th>3</th>\n",
              "      <td>Thyroid_Cancer</td>\n",
              "      <td>Solitary plasmacytoma SP of the skull is an u...</td>\n",
              "    </tr>\n",
              "    <tr>\n",
              "      <th>4</th>\n",
              "      <td>Thyroid_Cancer</td>\n",
              "      <td>This study aimed to investigate serum matrix ...</td>\n",
              "    </tr>\n",
              "    <tr>\n",
              "      <th>5</th>\n",
              "      <td>Thyroid_Cancer</td>\n",
              "      <td>This study was performed to explore the effec...</td>\n",
              "    </tr>\n",
              "    <tr>\n",
              "      <th>6</th>\n",
              "      <td>Thyroid_Cancer</td>\n",
              "      <td>This study was performed assess the clinical ...</td>\n",
              "    </tr>\n",
              "    <tr>\n",
              "      <th>7</th>\n",
              "      <td>Thyroid_Cancer</td>\n",
              "      <td>Journal of International Medical Research  Th...</td>\n",
              "    </tr>\n",
              "    <tr>\n",
              "      <th>8</th>\n",
              "      <td>Thyroid_Cancer</td>\n",
              "      <td>Gastric cancer GC persists as a worldwide pub...</td>\n",
              "    </tr>\n",
              "    <tr>\n",
              "      <th>9</th>\n",
              "      <td>Thyroid_Cancer</td>\n",
              "      <td>Scars Burns  HealingVolume     reuse guideli...</td>\n",
              "    </tr>\n",
              "    <tr>\n",
              "      <th>10</th>\n",
              "      <td>Thyroid_Cancer</td>\n",
              "      <td>In  a novel coronavirus SARSCoV2 was found to...</td>\n",
              "    </tr>\n",
              "    <tr>\n",
              "      <th>11</th>\n",
              "      <td>Thyroid_Cancer</td>\n",
              "      <td>Cabozantinib is an oral multikinase inhibitor...</td>\n",
              "    </tr>\n",
              "    <tr>\n",
              "      <th>12</th>\n",
              "      <td>Thyroid_Cancer</td>\n",
              "      <td>\" Despite several efforts the development of a...</td>\n",
              "    </tr>\n",
              "    <tr>\n",
              "      <th>13</th>\n",
              "      <td>Thyroid_Cancer</td>\n",
              "      <td>Purpose of Review Recognize which are the ele...</td>\n",
              "    </tr>\n",
              "    <tr>\n",
              "      <th>14</th>\n",
              "      <td>Thyroid_Cancer</td>\n",
              "      <td>Neurologic Manifestations of Systemic Disease ...</td>\n",
              "    </tr>\n",
              "  </tbody>\n",
              "</table>\n",
              "</div>\n",
              "    <div class=\"colab-df-buttons\">\n",
              "\n",
              "  <div class=\"colab-df-container\">\n",
              "    <button class=\"colab-df-convert\" onclick=\"convertToInteractive('df-21627bff-cc71-410b-90b8-7d6cac3396db')\"\n",
              "            title=\"Convert this dataframe to an interactive table.\"\n",
              "            style=\"display:none;\">\n",
              "\n",
              "  <svg xmlns=\"http://www.w3.org/2000/svg\" height=\"24px\" viewBox=\"0 -960 960 960\">\n",
              "    <path d=\"M120-120v-720h720v720H120Zm60-500h600v-160H180v160Zm220 220h160v-160H400v160Zm0 220h160v-160H400v160ZM180-400h160v-160H180v160Zm440 0h160v-160H620v160ZM180-180h160v-160H180v160Zm440 0h160v-160H620v160Z\"/>\n",
              "  </svg>\n",
              "    </button>\n",
              "\n",
              "  <style>\n",
              "    .colab-df-container {\n",
              "      display:flex;\n",
              "      gap: 12px;\n",
              "    }\n",
              "\n",
              "    .colab-df-convert {\n",
              "      background-color: #E8F0FE;\n",
              "      border: none;\n",
              "      border-radius: 50%;\n",
              "      cursor: pointer;\n",
              "      display: none;\n",
              "      fill: #1967D2;\n",
              "      height: 32px;\n",
              "      padding: 0 0 0 0;\n",
              "      width: 32px;\n",
              "    }\n",
              "\n",
              "    .colab-df-convert:hover {\n",
              "      background-color: #E2EBFA;\n",
              "      box-shadow: 0px 1px 2px rgba(60, 64, 67, 0.3), 0px 1px 3px 1px rgba(60, 64, 67, 0.15);\n",
              "      fill: #174EA6;\n",
              "    }\n",
              "\n",
              "    .colab-df-buttons div {\n",
              "      margin-bottom: 4px;\n",
              "    }\n",
              "\n",
              "    [theme=dark] .colab-df-convert {\n",
              "      background-color: #3B4455;\n",
              "      fill: #D2E3FC;\n",
              "    }\n",
              "\n",
              "    [theme=dark] .colab-df-convert:hover {\n",
              "      background-color: #434B5C;\n",
              "      box-shadow: 0px 1px 3px 1px rgba(0, 0, 0, 0.15);\n",
              "      filter: drop-shadow(0px 1px 2px rgba(0, 0, 0, 0.3));\n",
              "      fill: #FFFFFF;\n",
              "    }\n",
              "  </style>\n",
              "\n",
              "    <script>\n",
              "      const buttonEl =\n",
              "        document.querySelector('#df-21627bff-cc71-410b-90b8-7d6cac3396db button.colab-df-convert');\n",
              "      buttonEl.style.display =\n",
              "        google.colab.kernel.accessAllowed ? 'block' : 'none';\n",
              "\n",
              "      async function convertToInteractive(key) {\n",
              "        const element = document.querySelector('#df-21627bff-cc71-410b-90b8-7d6cac3396db');\n",
              "        const dataTable =\n",
              "          await google.colab.kernel.invokeFunction('convertToInteractive',\n",
              "                                                    [key], {});\n",
              "        if (!dataTable) return;\n",
              "\n",
              "        const docLinkHtml = 'Like what you see? Visit the ' +\n",
              "          '<a target=\"_blank\" href=https://colab.research.google.com/notebooks/data_table.ipynb>data table notebook</a>'\n",
              "          + ' to learn more about interactive tables.';\n",
              "        element.innerHTML = '';\n",
              "        dataTable['output_type'] = 'display_data';\n",
              "        await google.colab.output.renderOutput(dataTable, element);\n",
              "        const docLink = document.createElement('div');\n",
              "        docLink.innerHTML = docLinkHtml;\n",
              "        element.appendChild(docLink);\n",
              "      }\n",
              "    </script>\n",
              "  </div>\n",
              "\n",
              "\n",
              "<div id=\"df-4d0865b4-8c8d-4888-abfe-329f386160c5\">\n",
              "  <button class=\"colab-df-quickchart\" onclick=\"quickchart('df-4d0865b4-8c8d-4888-abfe-329f386160c5')\"\n",
              "            title=\"Suggest charts\"\n",
              "            style=\"display:none;\">\n",
              "\n",
              "<svg xmlns=\"http://www.w3.org/2000/svg\" height=\"24px\"viewBox=\"0 0 24 24\"\n",
              "     width=\"24px\">\n",
              "    <g>\n",
              "        <path d=\"M19 3H5c-1.1 0-2 .9-2 2v14c0 1.1.9 2 2 2h14c1.1 0 2-.9 2-2V5c0-1.1-.9-2-2-2zM9 17H7v-7h2v7zm4 0h-2V7h2v10zm4 0h-2v-4h2v4z\"/>\n",
              "    </g>\n",
              "</svg>\n",
              "  </button>\n",
              "\n",
              "<style>\n",
              "  .colab-df-quickchart {\n",
              "      --bg-color: #E8F0FE;\n",
              "      --fill-color: #1967D2;\n",
              "      --hover-bg-color: #E2EBFA;\n",
              "      --hover-fill-color: #174EA6;\n",
              "      --disabled-fill-color: #AAA;\n",
              "      --disabled-bg-color: #DDD;\n",
              "  }\n",
              "\n",
              "  [theme=dark] .colab-df-quickchart {\n",
              "      --bg-color: #3B4455;\n",
              "      --fill-color: #D2E3FC;\n",
              "      --hover-bg-color: #434B5C;\n",
              "      --hover-fill-color: #FFFFFF;\n",
              "      --disabled-bg-color: #3B4455;\n",
              "      --disabled-fill-color: #666;\n",
              "  }\n",
              "\n",
              "  .colab-df-quickchart {\n",
              "    background-color: var(--bg-color);\n",
              "    border: none;\n",
              "    border-radius: 50%;\n",
              "    cursor: pointer;\n",
              "    display: none;\n",
              "    fill: var(--fill-color);\n",
              "    height: 32px;\n",
              "    padding: 0;\n",
              "    width: 32px;\n",
              "  }\n",
              "\n",
              "  .colab-df-quickchart:hover {\n",
              "    background-color: var(--hover-bg-color);\n",
              "    box-shadow: 0 1px 2px rgba(60, 64, 67, 0.3), 0 1px 3px 1px rgba(60, 64, 67, 0.15);\n",
              "    fill: var(--button-hover-fill-color);\n",
              "  }\n",
              "\n",
              "  .colab-df-quickchart-complete:disabled,\n",
              "  .colab-df-quickchart-complete:disabled:hover {\n",
              "    background-color: var(--disabled-bg-color);\n",
              "    fill: var(--disabled-fill-color);\n",
              "    box-shadow: none;\n",
              "  }\n",
              "\n",
              "  .colab-df-spinner {\n",
              "    border: 2px solid var(--fill-color);\n",
              "    border-color: transparent;\n",
              "    border-bottom-color: var(--fill-color);\n",
              "    animation:\n",
              "      spin 1s steps(1) infinite;\n",
              "  }\n",
              "\n",
              "  @keyframes spin {\n",
              "    0% {\n",
              "      border-color: transparent;\n",
              "      border-bottom-color: var(--fill-color);\n",
              "      border-left-color: var(--fill-color);\n",
              "    }\n",
              "    20% {\n",
              "      border-color: transparent;\n",
              "      border-left-color: var(--fill-color);\n",
              "      border-top-color: var(--fill-color);\n",
              "    }\n",
              "    30% {\n",
              "      border-color: transparent;\n",
              "      border-left-color: var(--fill-color);\n",
              "      border-top-color: var(--fill-color);\n",
              "      border-right-color: var(--fill-color);\n",
              "    }\n",
              "    40% {\n",
              "      border-color: transparent;\n",
              "      border-right-color: var(--fill-color);\n",
              "      border-top-color: var(--fill-color);\n",
              "    }\n",
              "    60% {\n",
              "      border-color: transparent;\n",
              "      border-right-color: var(--fill-color);\n",
              "    }\n",
              "    80% {\n",
              "      border-color: transparent;\n",
              "      border-right-color: var(--fill-color);\n",
              "      border-bottom-color: var(--fill-color);\n",
              "    }\n",
              "    90% {\n",
              "      border-color: transparent;\n",
              "      border-bottom-color: var(--fill-color);\n",
              "    }\n",
              "  }\n",
              "</style>\n",
              "\n",
              "  <script>\n",
              "    async function quickchart(key) {\n",
              "      const quickchartButtonEl =\n",
              "        document.querySelector('#' + key + ' button');\n",
              "      quickchartButtonEl.disabled = true;  // To prevent multiple clicks.\n",
              "      quickchartButtonEl.classList.add('colab-df-spinner');\n",
              "      try {\n",
              "        const charts = await google.colab.kernel.invokeFunction(\n",
              "            'suggestCharts', [key], {});\n",
              "      } catch (error) {\n",
              "        console.error('Error during call to suggestCharts:', error);\n",
              "      }\n",
              "      quickchartButtonEl.classList.remove('colab-df-spinner');\n",
              "      quickchartButtonEl.classList.add('colab-df-quickchart-complete');\n",
              "    }\n",
              "    (() => {\n",
              "      let quickchartButtonEl =\n",
              "        document.querySelector('#df-4d0865b4-8c8d-4888-abfe-329f386160c5 button');\n",
              "      quickchartButtonEl.style.display =\n",
              "        google.colab.kernel.accessAllowed ? 'block' : 'none';\n",
              "    })();\n",
              "  </script>\n",
              "</div>\n",
              "    </div>\n",
              "  </div>\n"
            ]
          },
          "metadata": {},
          "execution_count": 7
        }
      ]
    },
    {
      "cell_type": "code",
      "source": [
        "df.shape"
      ],
      "metadata": {
        "id": "vsB3KG3990n3",
        "colab": {
          "base_uri": "https://localhost:8080/"
        },
        "outputId": "7dc75bbe-614a-4628-9d9d-171e4e55537c"
      },
      "execution_count": 8,
      "outputs": [
        {
          "output_type": "execute_result",
          "data": {
            "text/plain": [
              "(7570, 2)"
            ]
          },
          "metadata": {},
          "execution_count": 8
        }
      ]
    },
    {
      "cell_type": "code",
      "source": [
        "df.info()"
      ],
      "metadata": {
        "id": "jrlhFdQL4_sI",
        "colab": {
          "base_uri": "https://localhost:8080/"
        },
        "outputId": "1cba7ff4-70bd-4393-fb00-6cab7f7edd47"
      },
      "execution_count": 9,
      "outputs": [
        {
          "output_type": "stream",
          "name": "stdout",
          "text": [
            "<class 'pandas.core.frame.DataFrame'>\n",
            "RangeIndex: 7570 entries, 0 to 7569\n",
            "Data columns (total 2 columns):\n",
            " #   Column    Non-Null Count  Dtype \n",
            "---  ------    --------------  ----- \n",
            " 0   category  7570 non-null   object\n",
            " 1   text      7570 non-null   object\n",
            "dtypes: object(2)\n",
            "memory usage: 118.4+ KB\n"
          ]
        }
      ]
    },
    {
      "cell_type": "code",
      "source": [
        "df.columns"
      ],
      "metadata": {
        "id": "LfsYbPqv5WlX",
        "colab": {
          "base_uri": "https://localhost:8080/"
        },
        "outputId": "3e650d8b-30bc-4a4b-b296-108217d21bf8"
      },
      "execution_count": 10,
      "outputs": [
        {
          "output_type": "execute_result",
          "data": {
            "text/plain": [
              "Index(['category', 'text'], dtype='object')"
            ]
          },
          "metadata": {},
          "execution_count": 10
        }
      ]
    },
    {
      "cell_type": "code",
      "source": [
        "df['category'].value_counts()"
      ],
      "metadata": {
        "id": "diEpu6eP6j9w",
        "colab": {
          "base_uri": "https://localhost:8080/"
        },
        "outputId": "063b1c13-3784-4302-fa32-a10d5f6f3020"
      },
      "execution_count": 11,
      "outputs": [
        {
          "output_type": "execute_result",
          "data": {
            "text/plain": [
              "Thyroid_Cancer    2810\n",
              "Colon_Cancer      2580\n",
              "Lung_Cancer       2180\n",
              "Name: category, dtype: int64"
            ]
          },
          "metadata": {},
          "execution_count": 11
        }
      ]
    },
    {
      "cell_type": "code",
      "source": [
        "df.isnull().sum()"
      ],
      "metadata": {
        "id": "eLxI-S_z86uw",
        "colab": {
          "base_uri": "https://localhost:8080/"
        },
        "outputId": "3d0ccea2-3bfd-4e23-8727-cd785a7d7659"
      },
      "execution_count": 12,
      "outputs": [
        {
          "output_type": "execute_result",
          "data": {
            "text/plain": [
              "category    0\n",
              "text        0\n",
              "dtype: int64"
            ]
          },
          "metadata": {},
          "execution_count": 12
        }
      ]
    },
    {
      "cell_type": "markdown",
      "source": [
        "**TRAIN MODEL**"
      ],
      "metadata": {
        "id": "HnjEWblE9G2H"
      }
    },
    {
      "cell_type": "code",
      "source": [
        "spark_df = spark.createDataFrame(df).sample(0.3, 3) # limit the data\n",
        "\n",
        "trainingData, testData = spark_df.randomSplit([0.7, 0.3], seed = 100)\n",
        "\n",
        "print(\"Training Dataset Count: \" + str(trainingData.count()))\n",
        "print(\"Test Dataset Count: \" + str(testData.count()))"
      ],
      "metadata": {
        "id": "k_SUxKU39Cyg",
        "colab": {
          "base_uri": "https://localhost:8080/"
        },
        "outputId": "bf1911b1-ca58-478a-bbdc-0144538886e2"
      },
      "execution_count": 13,
      "outputs": [
        {
          "output_type": "stream",
          "name": "stdout",
          "text": [
            "Training Dataset Count: 1598\n",
            "Test Dataset Count: 672\n"
          ]
        }
      ]
    },
    {
      "cell_type": "code",
      "source": [
        "spark_df.groupBy(\"category\").count().show()"
      ],
      "metadata": {
        "id": "I59pZOje-KC_",
        "colab": {
          "base_uri": "https://localhost:8080/"
        },
        "outputId": "df41a889-d1f0-4143-fe8a-0299ecd95d11"
      },
      "execution_count": 14,
      "outputs": [
        {
          "output_type": "stream",
          "name": "stdout",
          "text": [
            "+--------------+-----+\n",
            "|      category|count|\n",
            "+--------------+-----+\n",
            "|Thyroid_Cancer|  827|\n",
            "|   Lung_Cancer|  670|\n",
            "|  Colon_Cancer|  773|\n",
            "+--------------+-----+\n",
            "\n"
          ]
        }
      ]
    },
    {
      "cell_type": "code",
      "source": [
        "spark_df.printSchema()"
      ],
      "metadata": {
        "id": "zPf-T8Gh-KFv",
        "colab": {
          "base_uri": "https://localhost:8080/"
        },
        "outputId": "63af5865-6c78-4a68-c23e-9f220e3e9577"
      },
      "execution_count": 15,
      "outputs": [
        {
          "output_type": "stream",
          "name": "stdout",
          "text": [
            "root\n",
            " |-- category: string (nullable = true)\n",
            " |-- text: string (nullable = true)\n",
            "\n"
          ]
        }
      ]
    },
    {
      "cell_type": "code",
      "source": [
        "spark_df.head()"
      ],
      "metadata": {
        "id": "gsgbdPgv_qVv",
        "colab": {
          "base_uri": "https://localhost:8080/"
        },
        "outputId": "380985f2-1a24-4a79-9cb3-aee59a24d807"
      },
      "execution_count": 16,
      "outputs": [
        {
          "output_type": "execute_result",
          "data": {
            "text/plain": [
              "Row(category='Thyroid_Cancer', text=\"Thyroid surgery in  children in a single institution from Osama Ibrahim Almosallama Ali Aseerib Ahmed Alhumaida Ali S AlZahranic Saif Alsobhib Saud AlShanafeybFrom the  aDepartment of Surgery College of Medicine Qassim University Buraidah Al Qassim Saudi Arabia  bDepartment of Surgery King Faisal Specialist Hospital and Research Center Riyadh Saudi Arabia cDepartment of Medicine King Faisal Specialist Hospital and Research Center Riyadh Saudi Arabia Correspondence   Dr  Osama Ibrahim  Almosallam  Department of  Surgery  College  of  Medicine Qassim  University  PO  Box   Buraidah  Al  Qassim   Saudi  Arabia  osama_iaahotmailcom ORCID orcid0000000290367564        Citation  Almosallam OI Aseeri A Alhumaid A AlZahrani AS Alsobhi S AlShanafey S Thyroid surgery in  children  in  a  single  institution  from   Ann  Saudi  Med         Received January  Accepted May  Published August  Copyright Copyright   Annals of Saudi Medicine Saudi Arabia This is an   access  under the Creative Commons AttributionNonCommercialNoDerivatives  International License CC BYNCND The details of which can be accessed at httpcreativecommons licensesbyncnd40Funding NoneBACKGROUND Data on thyroid surgery in children are scarceOBJECTIVE Analyze outcome data on thyroid surgery in a pediatric populationDESIGN Medical record reviewSETTING Tertiary health care institutionPATIENTS AND METHODS We collected demographic and clinical data on patients  years or younger who had thyroid surgery in the period  to  Descriptive data are presentedMAIN OUTCOME MEASURES Indications for thyroidectomy thyroid pathology complications length of stay and radioactive iodine treatment and recurrencesSAMPLE SIZE RESULTS Of  patients who underwent  thyroidectomy procedures   were females and the mean age at operation was  years and   were associated with multiple endocrine neoplasia type  There was no history of radiation exposure Eightyone patients  had fine needle aspiration FNA which correlated with the final histopathology in  of cases Sixtysix patients  had malignant cancer  papillary   of  patients who had neck dissection had lymph node metastasis and   had distant metastases to the lung Procedures included total thyroidectomy  hemithyroidectomy  completion  and subtotal thyroidectomy  Twentythree  patients    developed  hypocalcemia    permanent and   had unilateral recurrent laryngeal nerve injury  permanent Patients were followed up for a mean duration of  months median  months Of  patients with thyroid cancer   received radioactive iodine and   had recurrence  Malignancy  is  the  commonest  indication  for  thyroid surgery  in  children  and  FNA  is  highly  diagnostic  Hypocalcemia  and recurrent laryngeal nerve injury are significant complications The recurrence rate in thyroid cancer is  LIMITATIONS RetrospectiveCONFLICT OF INTEREST Noneoriginal ANN SAUDI MED  JULYAUGUST WWWANNSAUDIMEDNET 0cThyroid  diseases  requiring  surgery  are  relatively uncommon in children compared to adults The prevalence  of  palpable  thyroid  nodules  in  children  ranges  from    to    Sporadic  welldifferentiated thyroid cancer is the most common endocrine malignancy in children accounting for  of pediatric cancers  in  the  prepubertal  age  group  and  up  to   of cancers in adolescents aged \\x93 year2 The most common indication for thyroid surgery in children varies among published studies but thyroidectomy for malignant conditions is rising38 Data in children throughout the  world  are  relatively  scarce  The  objective  of  this study was to analyze the clinical data and outcome of thyroid  surgery  in  a  large  series  of  children  treated  at a  single  center  at  King  Faisal  Specialist  Hospital  and Research Center KFSHRC in RiyadhPATIENT AND METHODS With the approval of the Institutional Review Board IRB at KFSHRC the medical records of all patients  years old and younger who underwent a thyroid surgery between    and    were  retrospectively  reviewed We elected to include patients up to the year  to ensure a reasonable followup period Patients for the study were identified by a search of the operating room log for all procedures involving the thyroid gland for the specified age groupDemographic  data  clinical  features  and  surgical outcomes  were  collected  Specific  data  that  were  obtained included age at operation gender family history presenting  symptoms  history  of  radiation  exposure presence of multiple endocrine neoplasia type  MEN   thyroid  function  test  presence  and  size  of  thyroid nodules by ultrasound presence of lymph nodes metastasis or distant metastasis fine needle aspiration FNA cytology  surgical  procedure  final  histopathology  and length of followup Outcomes analyzed were postoperative complications including transient or permanent hypocalcemia  transient  or  permanent  recurrent  laryngeal nerve paralysis wound infection and hematoma length of stay and radioactive iodine treatment and recurrences Thyroid procedures in this series included hemithyroidectomy  subtotal  total  and  completion  thyroidectomy Surgeries were performed by either an endocrine adult surgeon or a pediatric surgeon No intraoperative nerve monitoring was used Early in the series procedures were performed by adult endocrine surgeons but lately a combined approach was adopted where pediatric surgeons and adult endocrine surgeons collaborated in such cases  proceduresthe normal range in our laboratory regardless of symptoms Transient hypocalcemia was identified if it lasted for less than  months while permanent hypocalcemia was  considered  if  the  serum  calcium  level  remained below normal range and the patient continued on calcium  supplementation  after    months  of  the  surgery All patients with a family history of MEN  underwent genetic testing of the RET protooncogene to confirm the diagnosis All patients who underwent completion thyroidectomy  had  a  preoperative  and  postoperative vocal  cords  assessment  at  the  Otolaryngology  clinic Descriptive data were generated and comparisons were conducted using the t test for continuous data and the chisquare or Fisher exact tests for proportionsRESULTSBetween    and      patients  underwent   surgical  procedures    patients  underwent  two  procedures  for  thyroid  disease  at  our  institution  Eighty  patients  were females The mean age at operation was  years median  years range  years The most common indication for thyroidectomy was thyroid nodule which was present in   of cases Table  The mean SD size of thyroid nodules was   mm There were  cases  associated with MEN  syndromes The final pathology in two patients with MEN syndrome showed medullary thyroid cancer MTC while the remaining  patients had prophylactic procedures before development of MTC None of the patients had a history of radiation exposure Eightyone patients  FNA  which  correlated  with  the  final  histopathology  in  of cases There were three cases of toxic adenoma and one case of Graves\\x99 disease which did not require FNA  The  remaining  cases  underwent  FNA  at  another institution and FNA was not repeated at our institution or they came for completion thyroidectomy with documented  pathology  for  malignancy  after  they  had  their first surgery in another hospitalThe  most  common  diagnoses  included  papillary thyroid cancer  and multinodular goiter or colloid Table  Indications for thyroidectomy in  patients IndicationNodulen  MEN  prophylaxisHyperthyroidismMultinodular goiterCompletion thyroidectomy    Hypocalcemia was defined by calcium levels below Data are number  original PEDIATRIC THYROID SURGERYANN SAUDI MED  JULYAUGUST WWWANNSAUDIMEDNET 0cnodule  Table  Surgical procedures included total thyroidectomy  hemithyroidectomy  completion  thyroidectomy    and  subtotal  thyroidectomy  Neck dissection was performed in   patients  Operative  complications  were  observed in    patients    The  most  common  complication was hypocalcemia  transient  permanent and Table  Thyroid pathology in the  patientsPathologyn  BenignNormal thyroid tissueColloid noduleCystAdenomaThyroiditisGraves\\x99 diseaseThyroid cancerPapillaryFollicularMedullaryHurthleAnaplasticTotalData are number              Table  Benign and malignant lesions in  patientsBenignn37Malignantn66 P value  Age meanyearsGender malefemalePresence of noduleHypocalcemiaRecurrent laryngeal nerve palsyBleedinghematomaWound infectionTracheal injuryOverall complicationsMean length of stay daysMEN recurrent laryngeal nerve palsy  transient  permanent all were unilateral Table  Of  patients with malignant lesions   had lymph node metastasis and  patients  had distant metastases to the lung  None  of  the  patients  developed  postoperative bleeding wound infection or tracheal injury Patients were followed up for a mean of  months median   range    months  radioactive  iodine  treatment  was  delivered  to    patients    with  malignant  lesions    patients    had  recurrences   were  local  recurrences  and    were  local  and  distant recurrences to the lung Three cases received radioactive iodine RAI before and after recurrence One case was low risk before recurrence so did not receive RAI until after recurrence One case had medullary thyroid cancer  so  did  not  receive  RAI  In  the  remaining  five cases  there was no clear data whether those patients received RAI before or only after a recurrence All local recurrences  underwent  resection  except  for  one  patient who was lost follow up There was no mortality in this study DISCUSSIONThe most common indication for thyroidectomy in this series was thyroid nodule which correlates with previously published reports in the pediatric population35 Children with thyroid nodules have an estimated fourfold  higher  risk  of  developing  thyroid  cancer  compared to adults910 The high incidence of malignancy in this series suggests children with a thyroid nodule should be carefully evaluatedFNA is a valuablemethod for preoperative evaluation of thyroid nodules However there are limitations on  the  routine  use  of  FNA  in  children  including  the need  for  sedation  sampling  errors  and  the  limited availability  of  experienced  cytopathologists11  Many previous studies reported high sensitivity and specificity of FNA in evaluating thyroid nodule in children1114 which correlate with our findingsOur data showed lymph node metastasis in  of  thyroid  cancer  cases  which  supports  the  notion that  children  with  thyroid  cancer  frequently  present with more extensive disease than adults Lymphnode involvement  at  diagnosis  is  seen  in    to    of children  compared  with    to    of  adults  with differentiated thyroid cancer1523 Because our hospital is the largest referral center in Saudi Arabia especially for oncology cases this may explain the large number of lymph node and distant metastasis In this cohortThe  most  common  complication  reported  after thyroidectomy in children is hypoparathyroidism with an incidence ranging between  to  which original PEDIATRIC THYROID SURGERYANN SAUDI MED  JULYAUGUST WWWANNSAUDIMEDNET 0ccorresponds with our results of  which are reported as hypocalcemia in Table    One study found that total thyroidectomy central and bilateral neck dissection Graves\\x99 disease and malignancy were  risk  factors  for  hypocalcemia  after  thyroid  surgery3 In this cohort postoperative hypocalcemia was noted more in malignant cases but it failed to reach statistical significance Moreover there was no significant difference between benign and malignant cases in  terms  of  mean  age  gender  distribution  recurrent laryngeal nerve injury or overall complications a finding that was reported previously26 Multiple studies in recent years have found an inverse relationship between surgeon volume and complication  rates2728  but  similar  data  in  the  pediatric population is lacking One study found that highvolume  endocrine  surgeons  have  better  outcomes  and shorter lengths of stay and lower costs after thyroidectomy and parathyroidectomy in children compared to pediatric surgeons general surgeons or otolaryngologists29  Scheumann  and  colleagues  also  concluded that a collaborative approach between pediatric and endocrine surgeons would have better outcomes This has led other authors to suggest that a combined approach with endocrine and pediatric surgeons in addition to pediatric endocrinologists may optimize the care of children with surgical thyroid disease given the low number of pediatric patients4 Our data do not allow for comparisons of different approaches given the late adoption of the combined approach The  recurrence  rate  for  thyroid  cancer  in  children after  thyroidectomy  has  varied  widely  in  reported studies  ranging  from    to    while  it  was   in  this  cohort  Only  a  few  studies  explored  the predictors  of  recurrence  Lymph  node  involvement multiple nodules male gender younger age histologic subtype and advanced tumor stage were risk factors associated with recurrence17233033 In  this  study    of  patients  with  malignant  lesions received RAI Although there are conflicting data regarding  the  indications  of  postoperative  RAI  treatment in lowrisk patients the current recommendation is that lowrisk patients can be treated without RAI3436There are some limitations to this study The retrospective nature may affect the validity and quality of the data The small number of cases in some categories did not enable us to compare groups and explore predictors relative to these factors On the other hand this study adds to the scarce data on thyroid surgery in pediatric age group Malignancy is the commonest indication  for  thyroid  surgery  in  children  and  FNA  is highly  diagnostic  Hypocalcemia  and  recurrent  laryngeal nerve injury are significant complications Cancerrelated  death  is  extremely  rare  but  recurrence  is  not uncommon and a significant number of patients with malignant cases received RAI treatmentoriginal PEDIATRIC THYROID SURGERYANN SAUDI MED  JULYAUGUST WWWANNSAUDIMEDNET 0cREFERENCES  Trowbridge  FL  Matovinovic  J  McLaren GD Nichaman MZ Iodine and goiter in children Pediatrics  Ries LAG Melbert D Krapcho M Stinchcomb  DG  Howlader  N  Horner  MJ  et  al SEER  Cancer  Statistics  Review  \\x93 Bethesda  National  Cancer  Institute   Based  on  November    SEER  data  submission Chen Y[h] Masiakos PT Gaz RD Hodin RA Parangi S Randolph GW et al Pediatric thyroidectomy in a high volume thyroid surgery center Risk factors for postoperative hypocalcemia J Pediatr Surg  Aug5081316   Wood  JH  Partrick  DA  Barham  HP  Bensard DD Travers HS Bruny JL et al Pediatric thyroidectomy  a  collaborative  surgical  approach J Pediatr Surg  May4658238  Scholz S Smith JR Chaignaud B Shamberger  RC  Huang  SA  Thyroid  surgery  at Children\\x99s Hospital Boston a 35year singleinstitution  experience  J  Pediatr  Surg   Mar46343742   Josefson  J  Zimmerman  D  Thyroid  nodules and cancers in children Pediatr Endocrinol Rev  Sep611423 Hameed R Zacharin MR  Changing face of paediatric and adolescent thyroid cancer J Paediatr Child Health   LugoVicente  H  Ortiz  VN  Irizarry  H Camps  JI  PagÃ¡n  V  Pediatric  thyroid  nodules management in the era of fine needle aspirationJ Pediatr Surg  Mussa A De Andrea M Motta M Mormile A  Palestini  N  Corrias  A  Predictors  of  Malignancy in Children with Thyroid Nodules J Pediatr  Oct167488692 Amirazodi E Propst EJ Chung CT Parra DA  Wasserman  JD  Pediatric  thyroid  FNA biopsy  Outcomes  and  impact  on  management over  years at a tertiary care center Cancer Cytopathol    Partyka  KL  Huang  EC2  Cramer  HM Chen  S  Wu  HH  Histologic  and  clinical followup  of  thyroid  fineneedle  aspirates in  pediatric  patients  Cancer  Cytopathol  Sinha CK Decoppi P Pierro A Brain C Hindmarsh P Butler G et al Thyroid Surgery in Children Clinical Outcomes Eur J Pediatr Surg  Oct2554259 Kundel A Thompson GB Richards ML Qiu LX Cai Y Schwenk FW et al Pediatric Endocrine Surgery A 20Year Experience at the  Mayo  Clinic  J  Clin  Endocrinol  Metab February  \\x93 Jiang W Newbury RO Newfield RS Pediatric  thyroid  surgery  and  management  of thyroid  nodulesan  institutional  experience features  and over a 10year period Int J Pediatr Endocrinol  Burke JF Sippel RS Chen H Evolution of Pediatric Thyroid Surgery at a Tertiary Medical Center Surg Res   \\x93  AlQahtani  KH  Tunio  MA  Al  Asiri  M Aljohani NJ Bayoumi Y Riaz K et al Clinicopathological treatment outcomes  of  differentiated  thyroid  cancer in  Saudi  children  and  adults  J  Otolaryngol Head Neck Surg  Nov  Kluijfhout WP van Beek DJ Verrijn Stuart  AA  Lodewijk  L  Valk  GD  Van  der  Zee DC  et  al  Postoperative  Complications After  Prophylactic  Thyroidectomy  for  Very Young  Patients  With  Multiple  Endocrine Neoplasia  Type    Medicine  Baltimore 20159429e1108  Raval MV Browne M Chin AC Zimmerman D Angelos P Reynolds M Total thyroidectomy  for  benign  disease  in  the  pediatric patient\\x94feasible  and  safe  J  Pediatr  Surg  Stavrakis AI Ituarte PH Ko CY Yeh MW Surgeon volume as a predictor of outcomes in  inpatient  and  outpatient  endocrine  surgery Surgery \\x93  Sosa JA Bowman HM Tielsch JM Powe NR  Gordon  TA  Udelsman  R  The  importance of surgeon experience for clinical and economic  outcomes  from  thyroidectomy Ann Surg \\x93  Tuggle CT  Roman SA Wang TS Boudourakis  L  Thomas  D  Udelsman  R  et  al Pediatric  endocrine  surgery  Who  is  operating  on  our  children  Surgery   Dec144686977  Park  S  Jeong  JS  Ryu  HR  Lee  C  Park JH Kang S et al Differentiated Thyroid Carcinoma of Children and Adolescents27Year Experience  in  the  Yonsei  University  Health System J Korean Med Sci   Palmer BA Zarroug AE Poley RN Kollars  JP  Moir  CR  Papillary  thyroid  carcinoma in children risk factors and complications  of  disease  recurrence  J  Pediatr  Surg  Wada N Sugino K Mimura T Nagahama M  Kitagawa  W  Shibuya  H  et  al  Pediatric differentiated  thyroid  carcinoma  in  stage  I risk  factor  analysis  for  disease  free  survival BMC Cancer    D Danese Gardini A Farsetti A Sciacchitano  S  Andreoli  M  Pontecorvi  A  Thyroid carcinoma in children and adolescents Eur J Pediatr   Astl  J  Chovanec  M  Lukes  P  Katra  R Dvorakova M Vlcek P et al Thyroid carcinoma surgery in children and adolescents \\x93  years experience surgery of pediatric thyroid lymph  node  metastases carcinoma  Int  J  Pediatr  Otorhinolaryngol   Chaukar  DA  Rangarajan  V  Nair  N Nadkarni  MS  Pai  PS  Dcruz  AK  et  al  Pediatric  thyroid  cancer  J  Surg  Oncol     Dzodic  R  Buta  M  Markovic  I  Gavrilo D Matovic M Milovanovic Z et al Surgical management  of  welldifferentiated  thyroid carcinoma  in  children  and  adolescents   years of experience of a single institution in Serbia Endocr J   Scheumann  GF  Gimm  O  Wegener G  Hundeshagen  H  Dralle  H  Prognostic significance  and  surgical  management  of locoregional in papillary thyroid cancer World J Surg   Shi RL Qu N Yang SW Tumor size interpretation for predicting cervical lymph node metastasis using a differentiated thyroid cancer risk model Onco Targets Ther   \\x93 Zimmerman D Hay ID Gough IR Goellner JR Ryan JJ Grant CS et al Papillary thyroid carcinoma in children and adults longterm  followup  of    patients  conservatively treated at one institution during three decades Surgery   Collini  P  Mattavelli  F  Pellegrinelli  A Barisella M Ferrari A Massimino M Papillary carcinoma of the thyroid gland of childhood and adolescence Morphologic subtypes biologic behavior and prognosis a clinicopathologic study of  sporadic cases treated at a single institution during a 30year period Am J Surg Pathol   BorsonChazot  Causeret  S  Lifante  JC Augros M Berger N Peix JL Predictive factors for recurrence from a series of  children and  adolescents  with  differentiated  thyroid cancer World J Surg   Baumgarten HD Bauer AJ Isaza A MostoufiMoab S Kazahaya K Adzick NS Surgical management of pediatric thyroid disease Complication  rates  after  thyroidectomy  at the Children\\x99s Hospital of Philadelphia highvolume Pediatric Thyroid Center Journal of pediatric  surgery    Oct   Kurzawinski TR De Coppi P Thyroidectomy in Children InPediatric Surgery  pp  Springer Berlin Heidelberg  Francis  G  Waguespack  SG  Bauer  AJ Angelog P Benvenga S et al Management Guidelines  for  Children  with  Thyroid  Nodules  and  Differentiated  Thyroid  Cancer  The American  Thyroid  Association  Guidelines Task Force on Pediatric Thyroid Cancer THYROID Volume  Number  original PEDIATRIC THYROID SURGERYANN SAUDI MED  JULYAUGUST WWWANNSAUDIMEDNET 0c'\")"
            ]
          },
          "metadata": {},
          "execution_count": 16
        }
      ]
    },
    {
      "cell_type": "code",
      "execution_count": 17,
      "metadata": {
        "id": "oxFX8bVEDbcj",
        "colab": {
          "base_uri": "https://localhost:8080/"
        },
        "outputId": "27310004-4891-45a3-dcf3-45190bf00985"
      },
      "outputs": [
        {
          "output_type": "stream",
          "name": "stdout",
          "text": [
            "embeddings_healthcare_100d download started this may take some time.\n",
            "Approximate size to download 475.8 MB\n",
            "[OK!]\n"
          ]
        }
      ],
      "source": [
        "document_assembler = DocumentAssembler()\\\n",
        "    .setInputCol(\"text\")\\\n",
        "    .setOutputCol(\"document\")\n",
        "\n",
        "tokenizer = Tokenizer() \\\n",
        "    .setInputCols([\"document\"]) \\\n",
        "    .setOutputCol(\"token\")\n",
        "\n",
        "\n",
        "#Now we will extract healthcare_100d embeddings and use it in the classificaiton model training\n",
        "word_embeddings = WordEmbeddingsModel.pretrained(\"embeddings_healthcare_100d\",\"en\",\"clinical/models\")\\\n",
        "    .setInputCols([\"document\",\"token\"])\\\n",
        "    .setOutputCol(\"word_embeddings\")\n",
        "\n",
        "sentence_embeddings = SentenceEmbeddings() \\\n",
        "    .setInputCols([\"document\", \"word_embeddings\"]) \\\n",
        "    .setOutputCol(\"sentence_embeddings\") \\\n",
        "    .setPoolingStrategy(\"AVERAGE\")\n",
        "\n",
        "\n",
        "embeddings_pipeline = Pipeline(\n",
        "    stages = [\n",
        "        document_assembler,\n",
        "        tokenizer,\n",
        "        word_embeddings,\n",
        "        sentence_embeddings\n",
        "])"
      ]
    },
    {
      "cell_type": "code",
      "source": [
        "#model.stages"
      ],
      "metadata": {
        "id": "QTIUiNdpqtny"
      },
      "execution_count": 18,
      "outputs": []
    },
    {
      "cell_type": "code",
      "source": [
        "trainingData_with_embeddings = embeddings_pipeline.fit(trainingData).transform(trainingData)\n",
        "trainingData_with_embeddings = trainingData_with_embeddings.select(\"text\",\"category\",\"sentence_embeddings\")\n",
        "trainingData_with_embeddings.show(2,truncate=60)"
      ],
      "metadata": {
        "id": "Uwyf6S5FI3yQ",
        "colab": {
          "base_uri": "https://localhost:8080/"
        },
        "outputId": "c8e3b8ed-897e-4d1c-f5f9-4d1dafb7cf95"
      },
      "execution_count": 19,
      "outputs": [
        {
          "output_type": "stream",
          "name": "stdout",
          "text": [
            "+------------------------------------------------------------+------------+------------------------------------------------------------+\n",
            "|                                                        text|    category|                                         sentence_embeddings|\n",
            "+------------------------------------------------------------+------------+------------------------------------------------------------+\n",
            "|    bladder cancer is the tenth most common cancer global...|Colon_Cancer|[{sentence_embeddings, 0, 32315,     bladder cancer is th...|\n",
            "|    breast cancer bc is the most common malignancy among ...|Colon_Cancer|[{sentence_embeddings, 0, 32498,     breast cancer bc is ...|\n",
            "+------------------------------------------------------------+------------+------------------------------------------------------------+\n",
            "only showing top 2 rows\n",
            "\n"
          ]
        }
      ]
    },
    {
      "cell_type": "code",
      "source": [
        "testData_with_embeddings = embeddings_pipeline.fit(testData).transform(testData)\n",
        "testData_with_embeddings = testData_with_embeddings.select(\"text\",\"category\",\"sentence_embeddings\")\n",
        "testData_with_embeddings.show(2,truncate=60)"
      ],
      "metadata": {
        "id": "QfIMlX-yMHrX",
        "colab": {
          "base_uri": "https://localhost:8080/"
        },
        "outputId": "dd07fff6-65b5-4fb6-af51-16416fa2f7fb"
      },
      "execution_count": 20,
      "outputs": [
        {
          "output_type": "stream",
          "name": "stdout",
          "text": [
            "+------------------------------------------------------------+------------+------------------------------------------------------------+\n",
            "|                                                        text|    category|                                         sentence_embeddings|\n",
            "+------------------------------------------------------------+------------+------------------------------------------------------------+\n",
            "|    endometrial cancer ec is a common malignancy of the f...|Colon_Cancer|[{sentence_embeddings, 0, 32555,     endometrial cancer e...|\n",
            "|    the incidence and death rate of nonsmall cell lung ca...|Colon_Cancer|[{sentence_embeddings, 0, 32553,     the incidence and de...|\n",
            "+------------------------------------------------------------+------------+------------------------------------------------------------+\n",
            "only showing top 2 rows\n",
            "\n"
          ]
        }
      ]
    },
    {
      "cell_type": "code",
      "source": [
        "testData_with_embeddings.printSchema()"
      ],
      "metadata": {
        "id": "-pVO8QrlMHt1",
        "colab": {
          "base_uri": "https://localhost:8080/"
        },
        "outputId": "729af49a-3267-4767-d511-ddca1707ab22"
      },
      "execution_count": 21,
      "outputs": [
        {
          "output_type": "stream",
          "name": "stdout",
          "text": [
            "root\n",
            " |-- text: string (nullable = true)\n",
            " |-- category: string (nullable = true)\n",
            " |-- sentence_embeddings: array (nullable = true)\n",
            " |    |-- element: struct (containsNull = true)\n",
            " |    |    |-- annotatorType: string (nullable = true)\n",
            " |    |    |-- begin: integer (nullable = false)\n",
            " |    |    |-- end: integer (nullable = false)\n",
            " |    |    |-- result: string (nullable = true)\n",
            " |    |    |-- metadata: map (nullable = true)\n",
            " |    |    |    |-- key: string\n",
            " |    |    |    |-- value: string (valueContainsNull = true)\n",
            " |    |    |-- embeddings: array (nullable = true)\n",
            " |    |    |    |-- element: float (containsNull = false)\n",
            "\n"
          ]
        }
      ]
    },
    {
      "cell_type": "code",
      "source": [
        "testData_with_embeddings.select(testData_with_embeddings.sentence_embeddings.embeddings).show(4,truncate=120)"
      ],
      "metadata": {
        "id": "HErZk8qDQC81",
        "colab": {
          "base_uri": "https://localhost:8080/"
        },
        "outputId": "e9d54ad6-365c-4e51-8437-0c0cc7de7634"
      },
      "execution_count": 22,
      "outputs": [
        {
          "output_type": "stream",
          "name": "stdout",
          "text": [
            "+------------------------------------------------------------------------------------------------------------------------+\n",
            "|                                                                                          sentence_embeddings.embeddings|\n",
            "+------------------------------------------------------------------------------------------------------------------------+\n",
            "|[[-0.0014882083, -0.030478254, 0.11241925, 0.16096647, -0.16610627, -0.035856325, 0.022098064, -0.047880135, 0.076399...|\n",
            "|[[0.012835252, -0.009353844, 0.1010427, 0.18400054, -0.1898749, -0.03182858, 0.006118923, -0.036870006, 0.065734066, ...|\n",
            "|[[0.012835252, -0.009353844, 0.1010427, 0.18400054, -0.1898749, -0.03182858, 0.006118923, -0.036870006, 0.065734066, ...|\n",
            "|[[-0.04869649, -0.05703247, 0.09128266, 0.16283788, -0.19340605, -0.023796845, 0.05896229, -0.06951927, 0.023538673, ...|\n",
            "+------------------------------------------------------------------------------------------------------------------------+\n",
            "only showing top 4 rows\n",
            "\n"
          ]
        }
      ]
    },
    {
      "cell_type": "code",
      "source": [
        "log_folder=\"MTC_logs_healthcare_100d\"\n",
        "!mkdir -p $log_folder\n",
        "#this command creates a directory named \"MTC_logs_healthcare_100d\" in the current working directory, or it ensures that the directory exists without producing an error if it's already present."
      ],
      "metadata": {
        "id": "gGJFwvZjoQeP"
      },
      "execution_count": 23,
      "outputs": []
    },
    {
      "cell_type": "code",
      "source": [
        "classifier_dl = ClassifierDLApproach()\\\n",
        "    .setInputCols([\"sentence_embeddings\"])\\\n",
        "    .setOutputCol(\"prediction\")\\\n",
        "    .setLabelColumn(\"category\")\\\n",
        "    .setBatchSize(16)\\\n",
        "    .setMaxEpochs(30)\\\n",
        "    .setLr(0.002)\\\n",
        "    .setDropout(0.3)\\\n",
        "    .setEnableOutputLogs(True)\\\n",
        "    .setOutputLogsPath(log_folder)\\\n",
        "    .setValidationSplit(0.1)\n",
        "\n",
        "classifier_dl_pipeline = Pipeline(\n",
        "    stages = [\n",
        "        classifier_dl\n",
        "])"
      ],
      "metadata": {
        "id": "TElpgKziotBn"
      },
      "execution_count": 24,
      "outputs": []
    },
    {
      "cell_type": "code",
      "source": [
        "clfDL_model_hc100 = classifier_dl_pipeline.fit(trainingData_with_embeddings) #fitting a deep learning classifier model to the training data"
      ],
      "metadata": {
        "id": "evDvIJ8IotF-"
      },
      "execution_count": 25,
      "outputs": []
    },
    {
      "cell_type": "code",
      "source": [
        "clfDL_model_hc100.stages"
      ],
      "metadata": {
        "colab": {
          "base_uri": "https://localhost:8080/"
        },
        "id": "JCL9ABU_POBK",
        "outputId": "2af0ee87-2def-4f00-caf1-6015ae343797"
      },
      "execution_count": 30,
      "outputs": [
        {
          "output_type": "execute_result",
          "data": {
            "text/plain": [
              "[ClassifierDLModel_53df3952b706]"
            ]
          },
          "metadata": {},
          "execution_count": 30
        }
      ]
    },
    {
      "cell_type": "code",
      "source": [
        "!cat $log_folder/ClassifierDLApproach_*"
      ],
      "metadata": {
        "id": "iKq1UbudoxvP",
        "colab": {
          "base_uri": "https://localhost:8080/"
        },
        "outputId": "a2274977-15f8-4c2d-cc71-c5cf70382c3e"
      },
      "execution_count": 26,
      "outputs": [
        {
          "output_type": "stream",
          "name": "stdout",
          "text": [
            "Training started - epochs: 30 - learning_rate: 0.002 - batch_size: 16 - training_examples: 1439 - classes: 3\n",
            "Epoch 0/30 - 1.42s - loss: 80.500885 - acc: 0.6922285 - batches: 90\n",
            "Quality on validation dataset (10.0%), validation examples = 159\n",
            "Epoch 1/30 - 0.87s - loss: 62.494102 - acc: 0.9212547 - batches: 90\n",
            "Quality on validation dataset (10.0%), validation examples = 159\n",
            "Epoch 2/30 - 1.01s - loss: 57.4087 - acc: 0.9521068 - batches: 90\n",
            "Quality on validation dataset (10.0%), validation examples = 159\n",
            "Epoch 3/30 - 0.97s - loss: 55.900723 - acc: 0.96479404 - batches: 90\n",
            "Quality on validation dataset (10.0%), validation examples = 159\n",
            "Epoch 4/30 - 0.96s - loss: 54.759483 - acc: 0.9718633 - batches: 90\n",
            "Quality on validation dataset (10.0%), validation examples = 159\n",
            "Epoch 5/30 - 1.09s - loss: 54.049458 - acc: 0.9781835 - batches: 90\n",
            "Quality on validation dataset (10.0%), validation examples = 159\n",
            "Epoch 6/30 - 1.11s - loss: 53.60502 - acc: 0.97958803 - batches: 90\n",
            "Quality on validation dataset (10.0%), validation examples = 159\n",
            "Epoch 7/30 - 1.19s - loss: 53.292004 - acc: 0.9838015 - batches: 90\n",
            "Quality on validation dataset (10.0%), validation examples = 159\n",
            "Epoch 8/30 - 1.10s - loss: 53.058044 - acc: 0.985206 - batches: 90\n",
            "Quality on validation dataset (10.0%), validation examples = 159\n",
            "Epoch 9/30 - 1.06s - loss: 52.86711 - acc: 0.98590827 - batches: 90\n",
            "Quality on validation dataset (10.0%), validation examples = 159\n",
            "Epoch 10/30 - 1.11s - loss: 52.71561 - acc: 0.9866105 - batches: 90\n",
            "Quality on validation dataset (10.0%), validation examples = 159\n",
            "Epoch 11/30 - 1.13s - loss: 52.597347 - acc: 0.98731273 - batches: 90\n",
            "Quality on validation dataset (10.0%), validation examples = 159\n",
            "Epoch 12/30 - 1.17s - loss: 52.502235 - acc: 0.9866105 - batches: 90\n",
            "Quality on validation dataset (10.0%), validation examples = 159\n",
            "Epoch 13/30 - 1.17s - loss: 52.425587 - acc: 0.9866105 - batches: 90\n",
            "Quality on validation dataset (10.0%), validation examples = 159\n",
            "Epoch 14/30 - 0.78s - loss: 52.363544 - acc: 0.985206 - batches: 90\n",
            "Quality on validation dataset (10.0%), validation examples = 159\n",
            "Epoch 15/30 - 0.96s - loss: 52.312782 - acc: 0.985206 - batches: 90\n",
            "Quality on validation dataset (10.0%), validation examples = 159\n",
            "Epoch 16/30 - 0.90s - loss: 52.269344 - acc: 0.98590827 - batches: 90\n",
            "Quality on validation dataset (10.0%), validation examples = 159\n",
            "Epoch 17/30 - 0.75s - loss: 52.233135 - acc: 0.9866105 - batches: 90\n",
            "Quality on validation dataset (10.0%), validation examples = 159\n",
            "Epoch 18/30 - 0.72s - loss: 52.201305 - acc: 0.98731273 - batches: 90\n",
            "Quality on validation dataset (10.0%), validation examples = 159\n",
            "Epoch 19/30 - 0.73s - loss: 52.173016 - acc: 0.98731273 - batches: 90\n",
            "Quality on validation dataset (10.0%), validation examples = 159\n",
            "Epoch 20/30 - 0.71s - loss: 52.147907 - acc: 0.98941946 - batches: 90\n",
            "Quality on validation dataset (10.0%), validation examples = 159\n",
            "Epoch 21/30 - 0.73s - loss: 52.125935 - acc: 0.98941946 - batches: 90\n",
            "Quality on validation dataset (10.0%), validation examples = 159\n",
            "Epoch 22/30 - 0.69s - loss: 52.10594 - acc: 0.98941946 - batches: 90\n",
            "Quality on validation dataset (10.0%), validation examples = 159\n",
            "Epoch 23/30 - 0.71s - loss: 52.087826 - acc: 0.98941946 - batches: 90\n",
            "Quality on validation dataset (10.0%), validation examples = 159\n",
            "Epoch 24/30 - 0.71s - loss: 52.071205 - acc: 0.98941946 - batches: 90\n",
            "Quality on validation dataset (10.0%), validation examples = 159\n",
            "Epoch 25/30 - 0.68s - loss: 52.055042 - acc: 0.98941946 - batches: 90\n",
            "Quality on validation dataset (10.0%), validation examples = 159\n",
            "Epoch 26/30 - 0.68s - loss: 52.040485 - acc: 0.98941946 - batches: 90\n",
            "Quality on validation dataset (10.0%), validation examples = 159\n",
            "Epoch 27/30 - 1.12s - loss: 52.026993 - acc: 0.98941946 - batches: 90\n",
            "Quality on validation dataset (10.0%), validation examples = 159\n",
            "Epoch 28/30 - 1.09s - loss: 52.01433 - acc: 0.98941946 - batches: 90\n",
            "Quality on validation dataset (10.0%), validation examples = 159\n",
            "Epoch 29/30 - 1.07s - loss: 52.002556 - acc: 0.9901217 - batches: 90\n",
            "Quality on validation dataset (10.0%), validation examples = 159\n"
          ]
        }
      ]
    },
    {
      "cell_type": "code",
      "source": [
        "preds = clfDL_model_hc100.transform(testData_with_embeddings)"
      ],
      "metadata": {
        "id": "E0AbBS_7oxym"
      },
      "execution_count": 27,
      "outputs": []
    },
    {
      "cell_type": "code",
      "source": [
        "preds.printSchema()\n",
        "preds.select(preds.prediction).show(5, truncate=False)\n",
        "preds.select(preds.category, preds.prediction.result).show(5, truncate=False)"
      ],
      "metadata": {
        "id": "yX84FPkcox9O",
        "colab": {
          "base_uri": "https://localhost:8080/"
        },
        "outputId": "9b52d1af-97f0-41bd-bdc0-f0f3a51f74cc"
      },
      "execution_count": 28,
      "outputs": [
        {
          "output_type": "stream",
          "name": "stdout",
          "text": [
            "root\n",
            " |-- text: string (nullable = true)\n",
            " |-- category: string (nullable = true)\n",
            " |-- sentence_embeddings: array (nullable = true)\n",
            " |    |-- element: struct (containsNull = true)\n",
            " |    |    |-- annotatorType: string (nullable = true)\n",
            " |    |    |-- begin: integer (nullable = false)\n",
            " |    |    |-- end: integer (nullable = false)\n",
            " |    |    |-- result: string (nullable = true)\n",
            " |    |    |-- metadata: map (nullable = true)\n",
            " |    |    |    |-- key: string\n",
            " |    |    |    |-- value: string (valueContainsNull = true)\n",
            " |    |    |-- embeddings: array (nullable = true)\n",
            " |    |    |    |-- element: float (containsNull = false)\n",
            " |-- prediction: array (nullable = true)\n",
            " |    |-- element: struct (containsNull = true)\n",
            " |    |    |-- annotatorType: string (nullable = true)\n",
            " |    |    |-- begin: integer (nullable = false)\n",
            " |    |    |-- end: integer (nullable = false)\n",
            " |    |    |-- result: string (nullable = true)\n",
            " |    |    |-- metadata: map (nullable = true)\n",
            " |    |    |    |-- key: string\n",
            " |    |    |    |-- value: string (valueContainsNull = true)\n",
            " |    |    |-- embeddings: array (nullable = true)\n",
            " |    |    |    |-- element: float (containsNull = false)\n",
            "\n",
            "+-------------------------------------------------------------------------------------------------------------------------------------------------+\n",
            "|prediction                                                                                                                                       |\n",
            "+-------------------------------------------------------------------------------------------------------------------------------------------------+\n",
            "|[{category, 0, 32555, Colon_Cancer, {sentence -> 0, Thyroid_Cancer -> 1.3142552E-5, Lung_Cancer -> 5.749869E-4, Colon_Cancer -> 0.99941194}, []}]|\n",
            "|[{category, 0, 32553, Colon_Cancer, {sentence -> 0, Thyroid_Cancer -> 4.43614E-6, Lung_Cancer -> 5.0310235E-5, Colon_Cancer -> 0.9999453}, []}]  |\n",
            "|[{category, 0, 32553, Colon_Cancer, {sentence -> 0, Thyroid_Cancer -> 4.43614E-6, Lung_Cancer -> 5.0310235E-5, Colon_Cancer -> 0.9999453}, []}]  |\n",
            "|[{category, 0, 29429, Colon_Cancer, {sentence -> 0, Thyroid_Cancer -> 3.1355317E-5, Lung_Cancer -> 0.010200345, Colon_Cancer -> 0.9897683}, []}] |\n",
            "|[{category, 0, 30333, Colon_Cancer, {sentence -> 0, Thyroid_Cancer -> 3.6261292E-6, Lung_Cancer -> 0.0011030567, Colon_Cancer -> 0.9988933}, []}]|\n",
            "+-------------------------------------------------------------------------------------------------------------------------------------------------+\n",
            "only showing top 5 rows\n",
            "\n",
            "+------------+-----------------+\n",
            "|category    |prediction.result|\n",
            "+------------+-----------------+\n",
            "|Colon_Cancer|[Colon_Cancer]   |\n",
            "|Colon_Cancer|[Colon_Cancer]   |\n",
            "|Colon_Cancer|[Colon_Cancer]   |\n",
            "|Colon_Cancer|[Colon_Cancer]   |\n",
            "|Colon_Cancer|[Colon_Cancer]   |\n",
            "+------------+-----------------+\n",
            "only showing top 5 rows\n",
            "\n"
          ]
        }
      ]
    },
    {
      "cell_type": "code",
      "source": [
        "preds_df = preds.select(\"category\",\"text\",\"prediction.result\").toPandas()\n",
        "preds_df[\"result\"] = preds_df[\"result\"].apply(lambda x : x[0])\n",
        "\n",
        "print (classification_report(preds_df[\"category\"], preds_df[\"result\"]))"
      ],
      "metadata": {
        "id": "tNQwFLIco8Cf",
        "colab": {
          "base_uri": "https://localhost:8080/"
        },
        "outputId": "4e18d698-8e27-4d6c-bcfd-0e24ff8d7326"
      },
      "execution_count": 29,
      "outputs": [
        {
          "output_type": "stream",
          "name": "stdout",
          "text": [
            "                precision    recall  f1-score   support\n",
            "\n",
            "  Colon_Cancer       0.99      1.00      0.99       228\n",
            "   Lung_Cancer       0.98      0.94      0.96       195\n",
            "Thyroid_Cancer       0.96      0.99      0.97       249\n",
            "\n",
            "      accuracy                           0.98       672\n",
            "     macro avg       0.98      0.97      0.98       672\n",
            "  weighted avg       0.98      0.98      0.98       672\n",
            "\n"
          ]
        }
      ]
    },
    {
      "cell_type": "markdown",
      "source": [
        "The provided classification results indicate a high level of performance for the model, with precision, recall, and F1-score values close to 1.0 for all three classes (Colon_Cancer, Lung_Cancer, and Thyroid_Cancer). The overall accuracy is also very high at 0.97.\n",
        "\n",
        "These results suggest that the model is able to accurately classify medical reports for all three categories. The high recall values indicate that the model is able to correctly identify a large proportion of the true positive cases. The high precision values indicate that the model is not generating many false positives.\n",
        "\n",
        "The F1-score, which is a balance between precision and recall, is also high for all three classes. This suggests that the model is able to strike a good balance between identifying true positives and avoiding false positives.\n",
        "\n",
        "Overall, these results are very encouraging and suggest that the model has the potential to be a valuable tool for medical diagnosis and treatment."
      ],
      "metadata": {
        "id": "lhDr_1kWY8_0"
      }
    }
  ]
}